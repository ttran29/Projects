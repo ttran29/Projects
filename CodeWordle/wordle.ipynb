{
 "cells": [
  {
   "cell_type": "code",
   "execution_count": 1,
   "id": "4fc935b6",
   "metadata": {},
   "outputs": [],
   "source": [
    "# choose word the day "
   ]
  },
  {
   "cell_type": "code",
   "execution_count": 2,
   "id": "d24b899f",
   "metadata": {},
   "outputs": [],
   "source": [
    "# let the preson guess the word\n",
    "#     set limitations: game modes (easy: 5 letters, medium: 7 letters, hard: 10 letters)\n",
    "#     user guesses and computer has to determine if it is green, yellow, or grey\n",
    "#     repeats until it is finally figured out "
   ]
  },
  {
   "cell_type": "code",
   "execution_count": null,
   "id": "86614d17",
   "metadata": {},
   "outputs": [],
   "source": [
    "# above is my thought process of how to actually make the game. This game is a replica of the original game \"wordle\"\n",
    "# since this was my first project, i thought about what a programmer would think of when making a game and the main part was thinking of what the user is doing"
   ]
  },
  {
   "cell_type": "code",
   "execution_count": null,
   "id": "3f05a516",
   "metadata": {},
   "outputs": [],
   "source": [
    "# decription of the game: the user will choose a game mode (easy, medium, hard) which will determine how many letters in the word there is.\n",
    "#     A random word will be generated and the game will start. \n",
    "#     Then the program will tell the user that they have to guess a word that is within those amount of letters. \n",
    "#     - if the letters in the word are in the same position as the random word, then it is highlighted in green\n",
    "#     - if the letters in the word are in the word but not in the same position, then it is highlighted in yellow\n",
    "#     - if the letters in the word are not in word, then it is highlighted grey \n",
    "#     - the user will get as many tries and redo this process until they have guessed the word! "
   ]
  },
  {
   "cell_type": "code",
   "execution_count": 3,
   "id": "198d72ed",
   "metadata": {},
   "outputs": [],
   "source": [
    "import my_module as mod"
   ]
  },
  {
   "cell_type": "code",
   "execution_count": 5,
   "id": "108a5062",
   "metadata": {},
   "outputs": [
    {
     "name": "stdout",
     "output_type": "stream",
     "text": [
      "Choose a Game Mode :)\n",
      "EASY\n",
      "MEDIUM\n",
      "HARD\n"
     ]
    }
   ],
   "source": [
    "print(\"Choose a Game Mode :)\")\n",
    "print(\"EASY\")\n",
    "print(\"MEDIUM\")\n",
    "print(\"HARD\")"
   ]
  },
  {
   "cell_type": "code",
   "execution_count": 6,
   "id": "390d76d1",
   "metadata": {},
   "outputs": [
    {
     "name": "stdout",
     "output_type": "stream",
     "text": [
      "Choose a Game Mode :) easy / medium / hard easy\n",
      "Guess a five letter word.\n"
     ]
    }
   ],
   "source": [
    "user_diff = input(\"Choose a Game Mode :) easy / medium / hard \")\n",
    "\n",
    "user_diff = user_diff.lower() \n",
    "# i used this method because in the case that the user puts Easy or eAsy or EASY, all will be inputted as easy \n",
    "# what i will be doing here is getting the word when the person chooses a mode. \n",
    "if user_diff == \"easy\":\n",
    "    word = mod.create_list(\"easywords.txt\")\n",
    "    print(\"Guess a five letter word.\")\n",
    "elif user_diff == \"medium\":\n",
    "    word = mod.create_list(\"mediumwords.txt\")\n",
    "    print(\"Guess a seven letter word.\")\n",
    "elif user_diff == \"hard\":\n",
    "    word = mod.create_list(\"hardwords.txt\")\n",
    "    print(\"Guess a nine letter word.\")\n",
    "else:\n",
    "    print(\"That's not what I asked for.\")\n",
    "    "
   ]
  },
  {
   "cell_type": "code",
   "execution_count": 7,
   "id": "63b9be38",
   "metadata": {},
   "outputs": [
    {
     "name": "stdout",
     "output_type": "stream",
     "text": [
      "_ _ _ _ _ "
     ]
    }
   ],
   "source": [
    "for i in range(len(word)):\n",
    "    print(\"_\", end = \" \")"
   ]
  },
  {
   "cell_type": "code",
   "execution_count": 8,
   "id": "f4f2a698",
   "metadata": {},
   "outputs": [
    {
     "name": "stdout",
     "output_type": "stream",
     "text": [
      "Please guess a word hards\n",
      "\u001b[1;37;43m h \u001b[0m \u001b[1;37;40m a \u001b[0m \u001b[1;37;40m r \u001b[0m \u001b[1;37;40m d \u001b[0m \u001b[1;37;40m s \u001b[0m \n",
      "Please guess a word phase\n",
      "\u001b[1;37;40m p \u001b[0m \u001b[1;37;43m h \u001b[0m \u001b[1;37;40m a \u001b[0m \u001b[1;37;40m s \u001b[0m \u001b[1;37;40m e \u001b[0m \n",
      "Please guess a word xxhuo\n",
      "\u001b[1;37;40m x \u001b[0m \u001b[1;37;40m x \u001b[0m \u001b[1;37;43m h \u001b[0m \u001b[1;37;40m u \u001b[0m \u001b[1;37;40m o \u001b[0m \n",
      "Please guess a word crate\n",
      "\u001b[1;37;40m c \u001b[0m \u001b[1;37;40m r \u001b[0m \u001b[1;37;40m a \u001b[0m \u001b[1;37;43m t \u001b[0m \u001b[1;37;40m e \u001b[0m \n",
      "Please guess a word tathe\n",
      "\u001b[1;37;43m t \u001b[0m \u001b[1;37;40m a \u001b[0m \u001b[1;37;43m t \u001b[0m \u001b[1;37;42m h \u001b[0m \u001b[1;37;40m e \u001b[0m \n",
      "Please guess a word taphe\n",
      "\u001b[1;37;43m t \u001b[0m \u001b[1;37;40m a \u001b[0m \u001b[1;37;40m p \u001b[0m \u001b[1;37;42m h \u001b[0m \u001b[1;37;40m e \u001b[0m \n",
      "Please guess a word xtohe\n",
      "\u001b[1;37;40m x \u001b[0m \u001b[1;37;43m t \u001b[0m \u001b[1;37;40m o \u001b[0m \u001b[1;37;42m h \u001b[0m \u001b[1;37;40m e \u001b[0m \n",
      "Please guess a word xxxht\n",
      "\u001b[1;37;40m x \u001b[0m \u001b[1;37;40m x \u001b[0m \u001b[1;37;40m x \u001b[0m \u001b[1;37;42m h \u001b[0m \u001b[1;37;42m t \u001b[0m \n",
      "Please guess a word hunht\n",
      "\u001b[1;37;43m h \u001b[0m \u001b[1;37;40m u \u001b[0m \u001b[1;37;40m n \u001b[0m \u001b[1;37;42m h \u001b[0m \u001b[1;37;42m t \u001b[0m \n",
      "Please guess a word qwert\n",
      "\u001b[1;37;40m q \u001b[0m \u001b[1;37;40m w \u001b[0m \u001b[1;37;40m e \u001b[0m \u001b[1;37;40m r \u001b[0m \u001b[1;37;42m t \u001b[0m \n",
      "Please guess a word yuiop\n",
      "\u001b[1;37;40m y \u001b[0m \u001b[1;37;40m u \u001b[0m \u001b[1;37;43m i \u001b[0m \u001b[1;37;40m o \u001b[0m \u001b[1;37;40m p \u001b[0m \n",
      "Please guess a word asdfg\n",
      "\u001b[1;37;40m a \u001b[0m \u001b[1;37;40m s \u001b[0m \u001b[1;37;40m d \u001b[0m \u001b[1;37;40m f \u001b[0m \u001b[1;37;43m g \u001b[0m \n",
      "Please guess a word hjklm\n",
      "\u001b[1;37;43m h \u001b[0m \u001b[1;37;40m j \u001b[0m \u001b[1;37;40m k \u001b[0m \u001b[1;37;40m l \u001b[0m \u001b[1;37;43m m \u001b[0m \n",
      "Please guess a word gimht\n",
      "\u001b[1;37;43m g \u001b[0m \u001b[1;37;42m i \u001b[0m \u001b[1;37;43m m \u001b[0m \u001b[1;37;42m h \u001b[0m \u001b[1;37;42m t \u001b[0m \n",
      "Please guess a word might\n",
      "You have guessed the word: might\n"
     ]
    }
   ],
   "source": [
    "user_guess = input(\"Please guess a word \")\n",
    "# input for the user to start guessing\n",
    "\n",
    "word = word.lower() \n",
    "# to make sure to whatever the word is, it has to be lowercase. i.e. if the word is might but you couldn't get it because the word was actually Might, that would have causes issues. \n",
    "\n",
    "while len(user_guess) != len(word):\n",
    "    print(\"Not the correct number of letters, try again\")\n",
    "    user_guess = input(\"Please guess a word \")\n",
    "# while loop is used in the case the user didn't play the game right\n",
    "    \n",
    "\n",
    "while user_guess != word:\n",
    "    for i in range(len(word)):\n",
    "        if user_guess[i] == word[i]:\n",
    "            print(f\"\\033[1;37;42m {user_guess[i]} \\033[0m\", end=\" \") #part of the game is if the letter is letter is in the right position or index, it tells the user that is right but highlighting it as green\n",
    "        elif user_guess[i] in word:\n",
    "            print(f\"\\033[1;37;43m {user_guess[i]} \\033[0m\", end=\" \") #same thing here but if the letter is in the word but in the wrong position, it is turned yellow\n",
    "        else:\n",
    "            print(f\"\\033[1;37;40m {user_guess[i]} \\033[0m\", end=\" \") #once again, if the letter is not in the word, it is turned grey/black\n",
    "    user_guess = input(\"\\nPlease guess a word \")\n",
    "    while len(user_guess) != len(word):\n",
    "        print(\"Not the correct number of letters, try again\")\n",
    "        user_guess = input(\"Please guess a word \")\n",
    "    \n",
    "print(\"You have guessed the word: \" + word)"
   ]
  },
  {
   "cell_type": "code",
   "execution_count": null,
   "id": "fa71aafe",
   "metadata": {},
   "outputs": [],
   "source": [
    "# this project was my very first coding project that i was given without any instructions whatsoever. \n",
    "# my thoughts: very difficult but very very fun. i geninunly really liked the project as it was very cool to get a result and something working in the end\n",
    "#     even though the project may not seem as complex as i would have imagined, it took a while to figure out a lot of errors. this was fixed by debugging over and over and trial and error\n",
    "#     some of the errors i had was the colors were not showing up. and this is what stumped me for a while because without the colors, this game will not be possible. so after an extensive amount of research on W3schools and other resources like Youtube, i found out how to input color and finish the project. \n",
    "#     more errors include the fact that i would try the game and say the word is \"might\". i would get all the letters but the m so it would look like im missing one letter but in reality, it was because my text file with the words include a capitalized letter for the M so i had to add a method to make sure all the letters were lowercased. \n",
    "#     i was also very confused on the files part. im used to just writing the functions on the notebook but i figured it out as i was putting it on the module instead and then importing. this taught me that the module does actually make everything a lot more neater and organized. \n",
    "    "
   ]
  },
  {
   "cell_type": "code",
   "execution_count": null,
   "id": "17835220",
   "metadata": {},
   "outputs": [],
   "source": []
  }
 ],
 "metadata": {
  "kernelspec": {
   "display_name": "Python 3 (ipykernel)",
   "language": "python",
   "name": "python3"
  },
  "language_info": {
   "codemirror_mode": {
    "name": "ipython",
    "version": 3
   },
   "file_extension": ".py",
   "mimetype": "text/x-python",
   "name": "python",
   "nbconvert_exporter": "python",
   "pygments_lexer": "ipython3",
   "version": "3.9.5"
  }
 },
 "nbformat": 4,
 "nbformat_minor": 5
}
