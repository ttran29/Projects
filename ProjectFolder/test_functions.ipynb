{
 "cells": [
  {
   "cell_type": "code",
   "execution_count": 2,
   "id": "4f5b7048",
   "metadata": {},
   "outputs": [],
   "source": [
    "# this is my testing function file"
   ]
  },
  {
   "cell_type": "code",
   "execution_count": null,
   "id": "8fb18e52",
   "metadata": {},
   "outputs": [],
   "source": [
    "import my_module as mod"
   ]
  },
  {
   "cell_type": "code",
   "execution_count": 3,
   "id": "499dcf8f",
   "metadata": {},
   "outputs": [],
   "source": [
    "assert len(mod.create_list(\"easywords.txt\")) == 5"
   ]
  },
  {
   "cell_type": "code",
   "execution_count": 4,
   "id": "28bcbcb4",
   "metadata": {},
   "outputs": [
    {
     "data": {
      "text/plain": [
       "'Spent'"
      ]
     },
     "execution_count": 4,
     "metadata": {},
     "output_type": "execute_result"
    }
   ],
   "source": [
    "mod.create_list(\"easywords.txt\")"
   ]
  },
  {
   "cell_type": "code",
   "execution_count": 5,
   "id": "487cdc9f",
   "metadata": {},
   "outputs": [
    {
     "data": {
      "text/plain": [
       "'Mystery'"
      ]
     },
     "execution_count": 5,
     "metadata": {},
     "output_type": "execute_result"
    }
   ],
   "source": [
    "mod.create_list(\"mediumwords.txt\")"
   ]
  },
  {
   "cell_type": "code",
   "execution_count": 6,
   "id": "64368d84",
   "metadata": {},
   "outputs": [
    {
     "data": {
      "text/plain": [
       "'Beautiful'"
      ]
     },
     "execution_count": 6,
     "metadata": {},
     "output_type": "execute_result"
    }
   ],
   "source": [
    "mod.create_list(\"hardwords.txt\")"
   ]
  },
  {
   "cell_type": "code",
   "execution_count": 7,
   "id": "bf8332e6",
   "metadata": {},
   "outputs": [],
   "source": [
    "word = mod.create_list(\"hardwords.txt\")"
   ]
  },
  {
   "cell_type": "code",
   "execution_count": 8,
   "id": "8c2aefe2",
   "metadata": {},
   "outputs": [
    {
     "name": "stdout",
     "output_type": "stream",
     "text": [
      "Favourite\n"
     ]
    }
   ],
   "source": [
    "print(word)"
   ]
  },
  {
   "cell_type": "code",
   "execution_count": 9,
   "id": "e260cc94",
   "metadata": {},
   "outputs": [],
   "source": [
    "word = word.lower()"
   ]
  },
  {
   "cell_type": "code",
   "execution_count": 10,
   "id": "3c186588",
   "metadata": {},
   "outputs": [
    {
     "name": "stdout",
     "output_type": "stream",
     "text": [
      "favourite\n"
     ]
    }
   ],
   "source": [
    "print(word)"
   ]
  },
  {
   "cell_type": "code",
   "execution_count": 11,
   "id": "4c1ea69b",
   "metadata": {},
   "outputs": [
    {
     "name": "stdout",
     "output_type": "stream",
     "text": [
      "_ _ _ _ _ _ _ _ _ "
     ]
    }
   ],
   "source": [
    "for i in range(len(word)):\n",
    "    print(\"_\", end = \" \")"
   ]
  },
  {
   "cell_type": "code",
   "execution_count": 14,
   "id": "515f90d4",
   "metadata": {},
   "outputs": [
    {
     "ename": "SyntaxError",
     "evalue": "f-string expression part cannot include a backslash (616342470.py, line 1)",
     "output_type": "error",
     "traceback": [
      "\u001b[0;36m  File \u001b[0;32m\"/tmp/ipykernel_143/616342470.py\"\u001b[0;36m, line \u001b[0;32m1\u001b[0m\n\u001b[0;31m    print(f\"\\033[1;37;42m {a \\033[0m\")\u001b[0m\n\u001b[0m                                     ^\u001b[0m\n\u001b[0;31mSyntaxError\u001b[0m\u001b[0;31m:\u001b[0m f-string expression part cannot include a backslash\n"
     ]
    }
   ],
   "source": []
  },
  {
   "cell_type": "code",
   "execution_count": null,
   "id": "03d8d107",
   "metadata": {},
   "outputs": [],
   "source": []
  }
 ],
 "metadata": {
  "kernelspec": {
   "display_name": "Python 3 (ipykernel)",
   "language": "python",
   "name": "python3"
  },
  "language_info": {
   "codemirror_mode": {
    "name": "ipython",
    "version": 3
   },
   "file_extension": ".py",
   "mimetype": "text/x-python",
   "name": "python",
   "nbconvert_exporter": "python",
   "pygments_lexer": "ipython3",
   "version": "3.9.5"
  }
 },
 "nbformat": 4,
 "nbformat_minor": 5
}
